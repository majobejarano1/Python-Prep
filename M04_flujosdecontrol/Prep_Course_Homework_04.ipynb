{
 "cells": [
  {
   "attachments": {},
   "cell_type": "markdown",
   "metadata": {},
   "source": [
    "## Flujos de Control"
   ]
  },
  {
   "attachments": {},
   "cell_type": "markdown",
   "metadata": {},
   "source": [
    "1) Crear una variable que contenga un elemento del conjunto de números enteros y luego imprimir por pantalla si es mayor o menor a cero"
   ]
  },
  {
   "cell_type": "code",
   "execution_count": 5,
   "metadata": {},
   "outputs": [
    {
     "name": "stdout",
     "output_type": "stream",
     "text": [
      "El número es 0\n"
     ]
    }
   ],
   "source": [
    "n=0\n",
    "if n>0:\n",
    "    print(f\"El número {n} es mayor a 0\")\n",
    "elif n<0:\n",
    "    print(f\"El número {n} es menor a 0\")\n",
    "else:\n",
    "    print(\"El número es 0\")"
   ]
  },
  {
   "attachments": {},
   "cell_type": "markdown",
   "metadata": {},
   "source": [
    "2) Crear dos variables y un condicional que informe si son del mismo tipo de dato"
   ]
  },
  {
   "cell_type": "code",
   "execution_count": 6,
   "metadata": {},
   "outputs": [
    {
     "name": "stdout",
     "output_type": "stream",
     "text": [
      "No son del mismo tipo\n"
     ]
    }
   ],
   "source": [
    "b=5\n",
    "c=\"5\"\n",
    "if type(b) ==type(c):\n",
    "    print(\"Son del mismo tipo\")\n",
    "else:\n",
    "    print(\"No son del mismo tipo\") "
   ]
  },
  {
   "attachments": {},
   "cell_type": "markdown",
   "metadata": {},
   "source": [
    "3) Para los valores enteros del 1 al 20, imprimir por pantalla si es par o impar"
   ]
  },
  {
   "cell_type": "code",
   "execution_count": 7,
   "metadata": {},
   "outputs": [
    {
     "name": "stdout",
     "output_type": "stream",
     "text": [
      "El numero 1 no es par\n",
      "El numero 2 es par\n",
      "El numero 3 no es par\n",
      "El numero 4 es par\n",
      "El numero 5 no es par\n",
      "El numero 6 es par\n",
      "El numero 7 no es par\n",
      "El numero 8 es par\n",
      "El numero 9 no es par\n",
      "El numero 10 es par\n",
      "El numero 11 no es par\n",
      "El numero 12 es par\n",
      "El numero 13 no es par\n",
      "El numero 14 es par\n",
      "El numero 15 no es par\n",
      "El numero 16 es par\n",
      "El numero 17 no es par\n",
      "El numero 18 es par\n",
      "El numero 19 no es par\n",
      "El numero 20 es par\n"
     ]
    }
   ],
   "source": [
    "for num in range(1,21):\n",
    "    if num % 2==00:\n",
    "        print(f\"El numero {num} es par\")\n",
    "    else:\n",
    "        print(f\"El numero {num} no es par\")"
   ]
  },
  {
   "attachments": {},
   "cell_type": "markdown",
   "metadata": {},
   "source": [
    "4) En un ciclo for mostrar para los valores entre 0 y 5 el resultado de elevarlo a la potencia igual a 3"
   ]
  },
  {
   "cell_type": "code",
   "execution_count": 9,
   "metadata": {},
   "outputs": [
    {
     "name": "stdout",
     "output_type": "stream",
     "text": [
      "El numero 0 elevado al cubo es 0\n",
      "El numero 1 elevado al cubo es 1\n",
      "El numero 2 elevado al cubo es 8\n",
      "El numero 3 elevado al cubo es 27\n",
      "El numero 4 elevado al cubo es 64\n",
      "El numero 5 elevado al cubo es 125\n"
     ]
    }
   ],
   "source": [
    "for num in range(0,6):\n",
    "    print(f\"El numero {num} elevado al cubo es {num**3}\")"
   ]
  },
  {
   "attachments": {},
   "cell_type": "markdown",
   "metadata": {},
   "source": [
    "5) Crear una variable que contenga un número entero y realizar un ciclo for la misma cantidad de ciclos"
   ]
  },
  {
   "cell_type": "code",
   "execution_count": 10,
   "metadata": {},
   "outputs": [
    {
     "name": "stdout",
     "output_type": "stream",
     "text": [
      "6\n"
     ]
    }
   ],
   "source": [
    "x=6\n",
    "for valor in range(0,(x+1)):\n",
    "    pass\n",
    "print(x)"
   ]
  },
  {
   "attachments": {},
   "cell_type": "markdown",
   "metadata": {},
   "source": [
    "6) Utilizar un ciclo while para realizar el factorial de un número guardado en una variable, sólo si la variable contiene un número entero mayor a 0"
   ]
  },
  {
   "cell_type": "code",
   "execution_count": 1,
   "metadata": {},
   "outputs": [
    {
     "name": "stdout",
     "output_type": "stream",
     "text": [
      "30\n",
      "120\n",
      "360\n",
      "720\n",
      "El factorial de 6 es igual a 720\n"
     ]
    }
   ],
   "source": [
    "b=6\n",
    "if type(b) == int:\n",
    "    if b>0:\n",
    "        num_factorial = b\n",
    "        num_original =b\n",
    "        while b>2:\n",
    "            b= b -1 \n",
    "            num_factorial = num_factorial * b\n",
    "            print(num_factorial)\n",
    "        print (f\"El factorial de {num_original} es igual a {num_factorial}\")\n",
    "    else:\n",
    "        print(\"El número no es mayor a cero\")\n",
    "else:\n",
    "    print(\"La variable no es un entero\")\n"
   ]
  },
  {
   "attachments": {},
   "cell_type": "markdown",
   "metadata": {},
   "source": [
    "7) Crear un ciclo for dentro de un ciclo while"
   ]
  },
  {
   "cell_type": "code",
   "execution_count": 6,
   "metadata": {},
   "outputs": [
    {
     "name": "stdout",
     "output_type": "stream",
     "text": [
      "Este es el ciclo numero 0 de while\n",
      "********************\n",
      "Este es el ciclo numero 1 de for dentro del ciclo numero 0 de while\n",
      "Este es el ciclo numero 2 de while\n",
      "********************\n",
      "Este es el ciclo numero 1 de for dentro del ciclo numero 2 de while\n"
     ]
    }
   ],
   "source": [
    "contador=0\n",
    "\n",
    "while contador <3:\n",
    "    print(f\"Este es el ciclo numero {contador} de while\")\n",
    "    print(\"*\" * 20)\n",
    "    for i in range(1,2):\n",
    "        print(f\"Este es el ciclo numero {i} de for dentro del ciclo numero {contador} de while\")\n",
    "    contador += 2\n",
    "    \n"
   ]
  },
  {
   "attachments": {},
   "cell_type": "markdown",
   "metadata": {},
   "source": [
    "8) Crear un ciclo while dentro de un ciclo for"
   ]
  },
  {
   "cell_type": "code",
   "execution_count": 14,
   "metadata": {},
   "outputs": [
    {
     "name": "stdout",
     "output_type": "stream",
     "text": [
      "Ciclo 2 de for\n",
      "Ciclo 3 de while\n"
     ]
    }
   ],
   "source": [
    "n=2\n",
    "for i in range(1,n):\n",
    "    print(f\"Ciclo {n} de for\")\n",
    "    while n <3:\n",
    "        n +=1\n",
    "        print(f\"Ciclo {n} de while\")"
   ]
  },
  {
   "attachments": {},
   "cell_type": "markdown",
   "metadata": {},
   "source": [
    "9) Imprimir los números primos existentes entre 0 y 30"
   ]
  },
  {
   "cell_type": "code",
   "execution_count": 19,
   "metadata": {},
   "outputs": [
    {
     "name": "stdout",
     "output_type": "stream",
     "text": [
      "0\n",
      "1\n",
      "2\n",
      "3\n",
      "5\n",
      "7\n",
      "11\n",
      "13\n",
      "17\n",
      "19\n",
      "23\n",
      "29\n"
     ]
    }
   ],
   "source": [
    "x=30\n",
    "y = 0\n",
    "primo= True\n",
    "while(y < x):\n",
    "    for div in range(2,y):\n",
    "        if y % div ==0:\n",
    "            primo= False\n",
    "    if (primo):\n",
    "        print(y)\n",
    "    else:\n",
    "        primo=True\n",
    "    y +=1\n"
   ]
  },
  {
   "attachments": {},
   "cell_type": "markdown",
   "metadata": {},
   "source": [
    "10) ¿Se puede mejorar el proceso del punto 9? Utilizar las sentencias break y/ó continue para tal fin"
   ]
  },
  {
   "cell_type": "code",
   "execution_count": 20,
   "metadata": {},
   "outputs": [
    {
     "name": "stdout",
     "output_type": "stream",
     "text": [
      "0\n",
      "1\n",
      "2\n",
      "3\n",
      "5\n",
      "7\n",
      "11\n",
      "13\n",
      "17\n",
      "19\n",
      "23\n",
      "29\n"
     ]
    }
   ],
   "source": [
    "x=30\n",
    "y = 0\n",
    "primo= True\n",
    "while(y < x):\n",
    "    for div in range(2,y):\n",
    "        if y % div ==0:\n",
    "            primo= False\n",
    "            break\n",
    "    if (primo):\n",
    "        print(y)\n",
    "    else:\n",
    "        primo=True\n",
    "    y +=1"
   ]
  },
  {
   "attachments": {},
   "cell_type": "markdown",
   "metadata": {},
   "source": [
    "11) En los puntos 9 y 10, se diseño un código que encuentra números primos y además se lo optimizó. ¿Es posible saber en qué medida se optimizó?"
   ]
  },
  {
   "cell_type": "code",
   "execution_count": 8,
   "metadata": {},
   "outputs": [
    {
     "name": "stdout",
     "output_type": "stream",
     "text": [
      "0\n",
      "1\n",
      "2\n",
      "3\n",
      "5\n",
      "7\n",
      "11\n",
      "13\n",
      "17\n",
      "19\n",
      "23\n",
      "29\n",
      "Cantidad de ciclos: 378\n"
     ]
    }
   ],
   "source": [
    "x=30\n",
    "sin_break= 0\n",
    "y = 0\n",
    "primo= True\n",
    "while(y < x):\n",
    "    for div in range(2,y):\n",
    "        sin_break +=1\n",
    "        if y % div ==0:\n",
    "            primo= False\n",
    "    if (primo):\n",
    "        print(y)\n",
    "    else:\n",
    "        primo=True\n",
    "    y +=1\n",
    "print(\"Cantidad de ciclos: \" + str(sin_break))"
   ]
  },
  {
   "attachments": {},
   "cell_type": "markdown",
   "metadata": {},
   "source": [
    "12) Aplicando continue, armar un ciclo while que solo imprima los valores divisibles por 12, dentro del rango de números de 100 a 300"
   ]
  },
  {
   "cell_type": "code",
   "execution_count": 31,
   "metadata": {},
   "outputs": [
    {
     "name": "stdout",
     "output_type": "stream",
     "text": [
      "El numero 108 es divisible por 12\n",
      "El numero 120 es divisible por 12\n",
      "El numero 132 es divisible por 12\n",
      "El numero 144 es divisible por 12\n",
      "El numero 156 es divisible por 12\n",
      "El numero 168 es divisible por 12\n",
      "El numero 180 es divisible por 12\n",
      "El numero 192 es divisible por 12\n",
      "El numero 204 es divisible por 12\n",
      "El numero 216 es divisible por 12\n",
      "El numero 228 es divisible por 12\n",
      "El numero 240 es divisible por 12\n",
      "El numero 252 es divisible por 12\n",
      "El numero 264 es divisible por 12\n",
      "El numero 276 es divisible por 12\n",
      "El numero 288 es divisible por 12\n",
      "El numero 300 es divisible por 12\n"
     ]
    }
   ],
   "source": [
    "n=99\n",
    "while(n<=300):\n",
    "    n +=1\n",
    "    if (n % 12 !=0):\n",
    "        continue\n",
    "    print(f\"El numero {n} es divisible por 12\")\n"
   ]
  },
  {
   "attachments": {},
   "cell_type": "markdown",
   "metadata": {},
   "source": [
    "13) Utilizar la función **input()** que permite hacer ingresos por teclado, para encontrar números primos y dar la opción al usario de buscar el siguiente"
   ]
  },
  {
   "cell_type": "code",
   "execution_count": 32,
   "metadata": {},
   "outputs": [
    {
     "name": "stdout",
     "output_type": "stream",
     "text": [
      "1\n",
      "¿quieres el siguiente primo? (presiona 1)\n"
     ]
    }
   ],
   "source": [
    "n=1\n",
    "continua = 1\n",
    "primo = True\n",
    "while continua == 1:\n",
    "    for div in range (2,n):\n",
    "        if n % div ==0:\n",
    "            primo = False\n",
    "    if primo:\n",
    "        print(n)\n",
    "        print(\"¿quieres el siguiente primo? (presiona 1)\")\n",
    "        if input() != \"1\":\n",
    "            print(\"Hemos terminado\")\n",
    "            break\n",
    "        else:\n",
    "            primo= True\n",
    "        n +=1"
   ]
  },
  {
   "attachments": {},
   "cell_type": "markdown",
   "metadata": {},
   "source": [
    "14) Crear un ciclo while que encuentre dentro del rango de 100 a 300 el primer número divisible por 3 y además múltiplo de 6"
   ]
  },
  {
   "cell_type": "code",
   "execution_count": 9,
   "metadata": {},
   "outputs": [
    {
     "name": "stdout",
     "output_type": "stream",
     "text": [
      "El numero es 102\n"
     ]
    }
   ],
   "source": [
    "for num in range(100,301):\n",
    "    if num % 6==0:\n",
    "        print(f\"El numero es {num}\")\n",
    "        break"
   ]
  }
 ],
 "metadata": {
  "interpreter": {
   "hash": "c85384e4cb51c8b72350f3a8712cc8351fdc3955e32a27f9b60c6242ab125f01"
  },
  "kernelspec": {
   "display_name": "Python 3 (ipykernel)",
   "language": "python",
   "name": "python3"
  },
  "language_info": {
   "codemirror_mode": {
    "name": "ipython",
    "version": 3
   },
   "file_extension": ".py",
   "mimetype": "text/x-python",
   "name": "python",
   "nbconvert_exporter": "python",
   "pygments_lexer": "ipython3",
   "version": "3.12.3"
  }
 },
 "nbformat": 4,
 "nbformat_minor": 4
}
